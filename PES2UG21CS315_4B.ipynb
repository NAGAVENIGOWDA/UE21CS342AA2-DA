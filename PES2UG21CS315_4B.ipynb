{
  "cells": [
    {
      "cell_type": "markdown",
      "metadata": {
        "id": "Y8y1bLhVgUIt"
      },
      "source": [
        "# PES University, Bangalore\n",
        "Established under Karnataka Act No. 16 of 2013"
      ]
    },
    {
      "cell_type": "markdown",
      "metadata": {
        "id": "uXXRZnUrgUIx"
      },
      "source": [
        "## UE21CS342AA2 - Data Analytics - Worksheet 4b\n",
        "\n",
        "Designed by Chinmaye A - chinmaye.anjimurthy@gmail.com and Emil Bluemax - emil.bluemax@gmail.com"
      ]
    },
    {
      "cell_type": "markdown",
      "metadata": {
        "id": "TFJ8LAoXgUIy"
      },
      "source": [
        "## Name: NAGAVENI L G\n",
        "\n",
        "> Indented block\n",
        "\n",
        "\n",
        "## SRN: PES2UG21CS315"
      ]
    },
    {
      "cell_type": "markdown",
      "metadata": {
        "id": "IABv3neDgUIz"
      },
      "source": [
        "## Market Basket Analysis\n",
        "    + Apriori Algorithm\n",
        "    + Association Rule mining"
      ]
    },
    {
      "cell_type": "markdown",
      "metadata": {
        "id": "QpR0ML-RgUI0"
      },
      "source": [
        "### Prerequisites\n",
        "- Revise the following concepts\n",
        "    - Apriori Algorithm\n",
        "        - Suport\n",
        "        - Confidence\n",
        "        - Lift\n",
        "- Install the following software\n",
        "    - pandas\n",
        "    - apyori"
      ]
    },
    {
      "cell_type": "markdown",
      "metadata": {
        "id": "UKsCDSThgUI0"
      },
      "source": [
        "### Marking scheme\n",
        "1. Problem 1: Preprocessing - 2 marks\n",
        "2. Problem 2: Item set detection and analaysis - 3 marks\n",
        "3. Problem 3: Association rule minning - 5 marks"
      ]
    },
    {
      "cell_type": "markdown",
      "metadata": {
        "id": "eX5eBcZzgUI1"
      },
      "source": [
        "### Context\n",
        "Welcome to \"FreshEats Superstore\", a budding supermarket. As a data analyst working with \"FreashEats\" , your mission is to uncover meaningful patterns within customer transactions to enhance their shopping experience and help us compete with our competitor \"Not-So-FreshEats\"."
      ]
    },
    {
      "cell_type": "markdown",
      "metadata": {
        "id": "QnqPCrajgUI1"
      },
      "source": [
        "### About the dataset\n",
        "- \"FreshEats_transactions.csv\"\n",
        "- Each record of the dataset represents a transaction made by a customer at \"FreashEats Superstore\".\n",
        "- The transaction contains the items bought in that transaction"
      ]
    },
    {
      "cell_type": "markdown",
      "metadata": {
        "id": "ATostew7gUI2"
      },
      "source": [
        "apyori documentation: https://pypi.org/project/apyori/ (Refer API Usage)"
      ]
    },
    {
      "cell_type": "code",
      "source": [
        "!pip install apyori\n"
      ],
      "metadata": {
        "colab": {
          "base_uri": "https://localhost:8080/"
        },
        "id": "mB00BV93hNBB",
        "outputId": "f615fb80-a5e6-4a5a-d736-0f2cce052a39"
      },
      "execution_count": 6,
      "outputs": [
        {
          "output_type": "stream",
          "name": "stderr",
          "text": [
            "/usr/local/lib/python3.10/dist-packages/ipykernel/ipkernel.py:283: DeprecationWarning: `should_run_async` will not call `transform_cell` automatically in the future. Please pass the result to `transformed_cell` argument and any exception that happen during thetransform in `preprocessing_exc_tuple` in IPython 7.17 and above.\n",
            "  and should_run_async(code)\n"
          ]
        },
        {
          "output_type": "stream",
          "name": "stdout",
          "text": [
            "Collecting apyori\n",
            "  Downloading apyori-1.1.2.tar.gz (8.6 kB)\n",
            "  Preparing metadata (setup.py) ... \u001b[?25l\u001b[?25hdone\n",
            "Building wheels for collected packages: apyori\n",
            "  Building wheel for apyori (setup.py) ... \u001b[?25l\u001b[?25hdone\n",
            "  Created wheel for apyori: filename=apyori-1.1.2-py3-none-any.whl size=5955 sha256=d4413c602d96d78105fc6faa237184648a7d43f63f675acfeb3de4802a0ea41d\n",
            "  Stored in directory: /root/.cache/pip/wheels/c4/1a/79/20f55c470a50bb3702a8cb7c94d8ada15573538c7f4baebe2d\n",
            "Successfully built apyori\n",
            "Installing collected packages: apyori\n",
            "Successfully installed apyori-1.1.2\n"
          ]
        }
      ]
    },
    {
      "cell_type": "code",
      "execution_count": 7,
      "metadata": {
        "colab": {
          "base_uri": "https://localhost:8080/"
        },
        "id": "3jyCM0nKgUI3",
        "outputId": "e2481384-3df2-497a-ee22-6e3d4d95bea7"
      },
      "outputs": [
        {
          "output_type": "stream",
          "name": "stderr",
          "text": [
            "/usr/local/lib/python3.10/dist-packages/ipykernel/ipkernel.py:283: DeprecationWarning: `should_run_async` will not call `transform_cell` automatically in the future. Please pass the result to `transformed_cell` argument and any exception that happen during thetransform in `preprocessing_exc_tuple` in IPython 7.17 and above.\n",
            "  and should_run_async(code)\n"
          ]
        }
      ],
      "source": [
        "import pandas as pd\n",
        "from apyori import apriori"
      ]
    },
    {
      "cell_type": "markdown",
      "metadata": {
        "id": "oynUr0bEgUI6"
      },
      "source": [
        "### Problem 1 - Preprocessing (2 marks)\n",
        "**Load the transactions data** from the provided csv file. **Transform the data** to a suitable format (Hint: **List of lists**[internal list contains the items of the transaction]). **Make sure to clean the data** (Hint: NA values)."
      ]
    },
    {
      "cell_type": "code",
      "execution_count": 2,
      "metadata": {
        "id": "d-ydj7amgUI6"
      },
      "outputs": [],
      "source": [
        "# Loading dataframe\n",
        "df = pd.read_csv(\"FreshEats_transactions.csv\", header=None)"
      ]
    },
    {
      "cell_type": "code",
      "execution_count": 3,
      "metadata": {
        "colab": {
          "base_uri": "https://localhost:8080/"
        },
        "id": "J_v050k_gUI7",
        "outputId": "fdc4410d-5fb3-40eb-af51-f8f25555b72e"
      },
      "outputs": [
        {
          "output_type": "stream",
          "name": "stdout",
          "text": [
            "[['shrimp', 'almonds', 'avocado', 'vegetables mix', 'green grapes', 'whole weat flour', 'yams', 'cottage cheese', 'energy drink', 'tomato juice', 'low fat yogurt', 'green tea', 'honey', 'salad', 'mineral water', 'salmon', 'antioxydant juice', 'frozen smoothie', 'spinach', 'olive oil'], ['burgers', 'meatballs', 'eggs'], ['chutney'], ['turkey', 'avocado'], ['mineral water', 'milk', 'energy bar', 'whole wheat rice', 'green tea']]\n"
          ]
        }
      ],
      "source": [
        "transactions = []\n",
        "for row in df.iterrows():\n",
        "    items = [item for item in row[1] if not pd.isna(item)]\n",
        "    if items:\n",
        "        transactions.append(items)\n",
        "print(transactions[:5])"
      ]
    },
    {
      "cell_type": "markdown",
      "metadata": {
        "id": "zJHdzn1vgUI9"
      },
      "source": [
        "### Problem 2 - Item sets (3 marks: 1 + 2)\n",
        "1. Print out the frequent item sets along with their support values also display the count of item sets.(**min_support=0.045**)\n",
        "2. \"FreshEats\" wants to replenish its stocks, help find the top 5 most popular(higher buying frequency) items/item_sets to replenish. Explain and justify the process followed to come to the conclusion."
      ]
    },
    {
      "cell_type": "code",
      "execution_count": 4,
      "metadata": {
        "colab": {
          "base_uri": "https://localhost:8080/"
        },
        "id": "xVa9oWmcgUI-",
        "outputId": "2ef2e36b-4a27-4fa4-a8aa-e67ec2144938"
      },
      "outputs": [
        {
          "output_type": "stream",
          "name": "stdout",
          "text": [
            "Found Frequent Item Sets:\n",
            "     support                    itemsets\n",
            "4   0.238368             (mineral water)\n",
            "8   0.179709                      (eggs)\n",
            "15  0.174110                 (spaghetti)\n",
            "12  0.170911              (french fries)\n",
            "19  0.163845                 (chocolate)\n",
            "2   0.132116                 (green tea)\n",
            "10  0.129583                      (milk)\n",
            "24  0.098254               (ground beef)\n",
            "14  0.095321         (frozen vegetables)\n",
            "22  0.095054                  (pancakes)\n",
            "7   0.087188                   (burgers)\n",
            "27  0.081056                      (cake)\n",
            "16  0.080389                   (cookies)\n",
            "25  0.079323                  (escalope)\n",
            "1   0.076523            (low fat yogurt)\n",
            "0   0.071457                    (shrimp)\n",
            "21  0.068391                  (tomatoes)\n",
            "6   0.065858                 (olive oil)\n",
            "5   0.063325           (frozen smoothie)\n",
            "9   0.062525                    (turkey)\n",
            "20  0.059992                   (chicken)\n",
            "30  0.059725  (mineral water, spaghetti)\n",
            "11  0.058526          (whole wheat rice)\n",
            "31  0.052660  (mineral water, chocolate)\n",
            "23  0.052393             (grated cheese)\n",
            "17  0.051060               (cooking oil)\n",
            "28  0.050927       (mineral water, eggs)\n",
            "13  0.050527                      (soup)\n",
            "26  0.049460             (herb & pepper)\n",
            "29  0.047994       (mineral water, milk)\n",
            "3   0.047460                     (honey)\n",
            "18  0.046794                 (champagne)\n",
            "Count of Found Frequent Item Sets: 32\n",
            "Top 5 Most Popular Items/Item Sets:\n",
            "     support         itemsets\n",
            "4   0.238368  (mineral water)\n",
            "8   0.179709           (eggs)\n",
            "15  0.174110      (spaghetti)\n",
            "12  0.170911   (french fries)\n",
            "19  0.163845      (chocolate)\n"
          ]
        },
        {
          "output_type": "stream",
          "name": "stderr",
          "text": [
            "/usr/local/lib/python3.10/dist-packages/mlxtend/frequent_patterns/fpcommon.py:110: DeprecationWarning: DataFrames with non-bool types result in worse computationalperformance and their support might be discontinued in the future.Please use a DataFrame with bool type\n",
            "  warnings.warn(\n"
          ]
        }
      ],
      "source": [
        "from mlxtend.frequent_patterns import apriori\n",
        "from mlxtend.frequent_patterns import association_rules\n",
        "all_items_set = set(item for transaction in transactions for item in transaction)\n",
        "all_items_list = list(all_items_set)\n",
        "transaction_dicts_list = []\n",
        "\n",
        "for transaction in transactions:\n",
        "    transaction_dict = {item: 1 for item in transaction}\n",
        "    transaction_dicts_list.append(transaction_dict)\n",
        "\n",
        "transactions_df = pd.DataFrame(transaction_dicts_list)\n",
        "transactions_df = transactions_df.fillna(0)\n",
        "\n",
        "frequent_item_sets_found = apriori(transactions_df, min_support=0.045, use_colnames=True)\n",
        "\n",
        "# Count the number of frequent item sets found\n",
        "number_of_frequent_item_sets = frequent_item_sets_found.shape[0]\n",
        "sorted_frequent_item_sets = frequent_item_sets_found.sort_values(by='support', ascending=False)\n",
        "\n",
        "top_5_popular_sets = sorted_frequent_item_sets.head(5)\n",
        "\n",
        "print(\"Found Frequent Item Sets:\")\n",
        "print(sorted_frequent_item_sets)\n",
        "\n",
        "print(\"Count of Found Frequent Item Sets:\", number_of_frequent_item_sets)\n",
        "\n",
        "print(\"Top 5 Most Popular Items/Item Sets:\")\n",
        "print(top_5_popular_sets)\n",
        "\n"
      ]
    },
    {
      "cell_type": "markdown",
      "metadata": {
        "id": "CJ7Pk0lEgUI-"
      },
      "source": [
        "### Problem 3 - Association Rules (5 marks: 1 + 2 + 2)\n",
        "+ Items on the left side of the association rule are called : **Antecedent items** and the right side of the association rule are called : **Consequent Items**.\n",
        "1. Print out the association rules along with their confidence and lift. (Analyse the output structure of apriori())\n",
        "    + **(min_support=0.01, min_confidence = 0.045, min_lift=1.5, min_length=2)**\n",
        "2. As the Holiday season is approaching, \"FreshEats\" is considering to provide discounts and offers on some of their products. Help them identify the top 5 popular **pairs/sets** of items/item_sets bought, considering probability of consequent item being purchased when antecedent item is bought.\n",
        "3. Also help them identify the top 5 popular **pairs/sets** of items/item_sets bought together, considering the popularity of consequent and antecedent items.\n",
        "+ (Consequent and antecedent items together form the **pairs/sets** specified in the question)\n"
      ]
    },
    {
      "cell_type": "code",
      "execution_count": 5,
      "metadata": {
        "colab": {
          "base_uri": "https://localhost:8080/"
        },
        "id": "MLTF-YYJgUI_",
        "outputId": "6f13a988-249a-420a-ea42-b58f8b7f1a1c"
      },
      "outputs": [
        {
          "output_type": "stream",
          "name": "stdout",
          "text": [
            "Association Rules with Confidence and Lift:\n",
            "       antecedents      consequents  antecedent support  consequent support  \\\n",
            "3           (milk)  (mineral water)            0.129583            0.238368   \n",
            "5      (spaghetti)  (mineral water)            0.174110            0.238368   \n",
            "7      (chocolate)  (mineral water)            0.163845            0.238368   \n",
            "1           (eggs)  (mineral water)            0.179709            0.238368   \n",
            "4  (mineral water)      (spaghetti)            0.238368            0.174110   \n",
            "6  (mineral water)      (chocolate)            0.238368            0.163845   \n",
            "0  (mineral water)           (eggs)            0.238368            0.179709   \n",
            "2  (mineral water)           (milk)            0.238368            0.129583   \n",
            "\n",
            "    support  confidence      lift  leverage  conviction  zhangs_metric  \n",
            "3  0.047994    0.370370  1.553774  0.017105    1.209650       0.409465  \n",
            "5  0.059725    0.343032  1.439085  0.018223    1.159314       0.369437  \n",
            "7  0.052660    0.321400  1.348332  0.013604    1.122357       0.308965  \n",
            "1  0.050927    0.283383  1.188845  0.008090    1.062815       0.193648  \n",
            "4  0.059725    0.250559  1.439085  0.018223    1.102008       0.400606  \n",
            "6  0.052660    0.220917  1.348332  0.013604    1.073256       0.339197  \n",
            "0  0.050927    0.213647  1.188845  0.008090    1.043158       0.208562  \n",
            "2  0.047994    0.201342  1.553774  0.017105    1.089850       0.467950  \n",
            "Top 5 Popular Pairs/Sets of Items/Item Sets (Confidence-based):\n",
            "       antecedents      consequents  antecedent support  consequent support  \\\n",
            "3           (milk)  (mineral water)            0.129583            0.238368   \n",
            "5      (spaghetti)  (mineral water)            0.174110            0.238368   \n",
            "7      (chocolate)  (mineral water)            0.163845            0.238368   \n",
            "1           (eggs)  (mineral water)            0.179709            0.238368   \n",
            "4  (mineral water)      (spaghetti)            0.238368            0.174110   \n",
            "\n",
            "    support  confidence      lift  leverage  conviction  zhangs_metric  \n",
            "3  0.047994    0.370370  1.553774  0.017105    1.209650       0.409465  \n",
            "5  0.059725    0.343032  1.439085  0.018223    1.159314       0.369437  \n",
            "7  0.052660    0.321400  1.348332  0.013604    1.122357       0.308965  \n",
            "1  0.050927    0.283383  1.188845  0.008090    1.062815       0.193648  \n",
            "4  0.059725    0.250559  1.439085  0.018223    1.102008       0.400606  \n",
            "Top 5 Popular Pairs/Sets of Items/Item Sets (Popularity-based):\n",
            "       antecedents      consequents  antecedent support  consequent support  \\\n",
            "1           (eggs)  (mineral water)            0.179709            0.238368   \n",
            "0  (mineral water)           (eggs)            0.238368            0.179709   \n",
            "5      (spaghetti)  (mineral water)            0.174110            0.238368   \n",
            "4  (mineral water)      (spaghetti)            0.238368            0.174110   \n",
            "7      (chocolate)  (mineral water)            0.163845            0.238368   \n",
            "\n",
            "    support  confidence      lift  leverage  conviction  zhangs_metric  \\\n",
            "1  0.050927    0.283383  1.188845  0.008090    1.062815       0.193648   \n",
            "0  0.050927    0.213647  1.188845  0.008090    1.043158       0.208562   \n",
            "5  0.059725    0.343032  1.439085  0.018223    1.159314       0.369437   \n",
            "4  0.059725    0.250559  1.439085  0.018223    1.102008       0.400606   \n",
            "7  0.052660    0.321400  1.348332  0.013604    1.122357       0.308965   \n",
            "\n",
            "   item_support  antecedent_support  popularity  \n",
            "1      0.238368            0.179709    0.042837  \n",
            "0      0.179709            0.238368    0.042837  \n",
            "5      0.238368            0.174110    0.041502  \n",
            "4      0.174110            0.238368    0.041502  \n",
            "7      0.238368            0.163845    0.039055  \n"
          ]
        },
        {
          "output_type": "stream",
          "name": "stderr",
          "text": [
            "/usr/local/lib/python3.10/dist-packages/ipykernel/ipkernel.py:283: DeprecationWarning: `should_run_async` will not call `transform_cell` automatically in the future. Please pass the result to `transformed_cell` argument and any exception that happen during thetransform in `preprocessing_exc_tuple` in IPython 7.17 and above.\n",
            "  and should_run_async(code)\n"
          ]
        }
      ],
      "source": [
        "from mlxtend.frequent_patterns import association_rules\n",
        "association_rules_data = association_rules(frequent_item_sets_found, metric=\"confidence\", min_threshold=0.045)\n",
        "\n",
        "sorted_association_rules_data = association_rules_data.sort_values(by='confidence', ascending=False)\n",
        "\n",
        "print(\"Association Rules with Confidence and Lift:\")\n",
        "print(sorted_association_rules_data)\n",
        "\n",
        "top_5_confidence_based = sorted_association_rules_data.head(5)\n",
        "\n",
        "print(\"Top 5 Popular Pairs/Sets of Items/Item Sets (Confidence-based):\")\n",
        "print(top_5_confidence_based)\n",
        "\n",
        "sorted_association_rules_data['item_support'] = sorted_association_rules_data['consequents'].apply(lambda x: frequent_item_sets_found.loc[frequent_item_sets_found['itemsets'] == x].iloc[0]['support'])\n",
        "\n",
        "sorted_association_rules_data['antecedent_support'] = sorted_association_rules_data['antecedents'].apply(lambda x: frequent_item_sets_found.loc[frequent_item_sets_found['itemsets'] == x].iloc[0]['support'])\n",
        "\n",
        "sorted_association_rules_data['popularity'] = sorted_association_rules_data['item_support'] * sorted_association_rules_data['antecedent_support']\n",
        "\n",
        "sorted_association_rules_data = sorted_association_rules_data.sort_values(by='popularity', ascending=False)\n",
        "\n",
        "top_5_popularity_based = sorted_association_rules_data.head(5)\n",
        "\n",
        "print(\"Top 5 Popular Pairs/Sets of Items/Item Sets (Popularity-based):\")\n",
        "print(top_5_popularity_based)\n"
      ]
    },
    {
      "cell_type": "code",
      "execution_count": 5,
      "metadata": {
        "colab": {
          "base_uri": "https://localhost:8080/"
        },
        "id": "SsupNLclgUI_",
        "outputId": "e2decf42-75d5-4eec-c093-8194cbc82d5d"
      },
      "outputs": [
        {
          "output_type": "stream",
          "name": "stderr",
          "text": [
            "/usr/local/lib/python3.10/dist-packages/ipykernel/ipkernel.py:283: DeprecationWarning: `should_run_async` will not call `transform_cell` automatically in the future. Please pass the result to `transformed_cell` argument and any exception that happen during thetransform in `preprocessing_exc_tuple` in IPython 7.17 and above.\n",
            "  and should_run_async(code)\n"
          ]
        }
      ],
      "source": []
    }
  ],
  "metadata": {
    "kernelspec": {
      "display_name": "Python 3 (ipykernel)",
      "language": "python",
      "name": "python3"
    },
    "language_info": {
      "codemirror_mode": {
        "name": "ipython",
        "version": 3
      },
      "file_extension": ".py",
      "mimetype": "text/x-python",
      "name": "python",
      "nbconvert_exporter": "python",
      "pygments_lexer": "ipython3",
      "version": "3.11.0"
    },
    "colab": {
      "provenance": []
    }
  },
  "nbformat": 4,
  "nbformat_minor": 0
}